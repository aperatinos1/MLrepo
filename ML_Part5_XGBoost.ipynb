{
 "cells": [
  {
   "cell_type": "code",
   "execution_count": 38,
   "id": "5634bc56-abf4-4b6d-a9da-32478166709a",
   "metadata": {},
   "outputs": [],
   "source": [
    "import pandas as pd\n",
    "from sklearn.model_selection import train_test_split\n",
    "from xgboost import XGBRegressor\n",
    "from sklearn.metrics import mean_absolute_error"
   ]
  },
  {
   "cell_type": "code",
   "execution_count": 33,
   "id": "f5907199-3e96-4b53-8f28-4f2e3d3e738b",
   "metadata": {},
   "outputs": [],
   "source": [
    "#Read data\n",
    "train_path = 'C:/Users/alexandros.peratinos/OneDrive - BearingPoint GmbH/Documents/ML/Data/housing_prices/train.csv'\n",
    "test_path  = 'C:/Users/alexandros.peratinos/OneDrive - BearingPoint GmbH/Documents/ML/Data/housing_prices/test.csv'\n",
    "train_data = pd.read_csv(train_path)\n",
    "test_data  = pd.read_csv(test_path)\n",
    "\n",
    "#Remove rows with missing target, separate target from predictors\n",
    "train_data.dropna(subset=['SalePrice'], inplace=True)\n",
    "y = train_data['SalePrice']\n",
    "train_data.drop(['SalePrice'], axis=1, inplace=True)\n",
    "X = train_data\n",
    "\n",
    "#Split\n",
    "X_train_full, X_val_full, y_train_full, y_val_full = train_test_split(X, y, train_size=0.8, random_state=0)\n",
    "\n",
    "#Select low cardinal cat-columns\n",
    "low_card_cols = [cname for cname in X_train_full if X_train_full[cname].dtype == 'object' and X_train_full[cname].nunique() < 10]\n",
    "\n",
    "#Select numeric cols\n",
    "num_cols = [cname for cname in X_train_full if X_train_full[cname].dtype in ['int64','float64']]\n",
    "\n",
    "#Keep selected cols only\n",
    "my_cols = low_card_cols + num_cols\n",
    "X_train = X_train_full[my_cols].copy()\n",
    "X_val = X_val_full[my_cols].copy()\n",
    "X_test = test_data[my_cols].copy()\n",
    "\n",
    "#One-hot encode data by using pandas\n",
    "\n",
    "X_train = pd.get_dummies(X_train)\n",
    "X_val = pd.get_dummies(X_val)\n",
    "X_test = pd.get_dummies(X_test)\n",
    "\n",
    "X_train, X_val= X_train.align(X_val, join='left', axis=1)\n",
    "X_train, X_test= X_train.align(X_test, join='left', axis=1)"
   ]
  },
  {
   "cell_type": "code",
   "execution_count": 37,
   "id": "a83fdbf8-a108-487d-a641-6f350c4ab012",
   "metadata": {},
   "outputs": [
    {
     "data": {
      "text/plain": [
       "XGBRegressor(base_score=None, booster=None, callbacks=None,\n",
       "             colsample_bylevel=None, colsample_bynode=None,\n",
       "             colsample_bytree=None, early_stopping_rounds=None,\n",
       "             enable_categorical=False, eval_metric=None, feature_types=None,\n",
       "             gamma=None, gpu_id=None, grow_policy=None, importance_type=None,\n",
       "             interaction_constraints=None, learning_rate=None, max_bin=None,\n",
       "             max_cat_threshold=None, max_cat_to_onehot=None,\n",
       "             max_delta_step=None, max_depth=None, max_leaves=None,\n",
       "             min_child_weight=None, missing=nan, monotone_constraints=None,\n",
       "             n_estimators=100, n_jobs=None, num_parallel_tree=None,\n",
       "             predictor=None, random_state=0, ...)"
      ]
     },
     "execution_count": 37,
     "metadata": {},
     "output_type": "execute_result"
    }
   ],
   "source": [
    "#Part 1: Build model\n",
    "my_model_1 = XGBRegressor(random_state=0)\n",
    "my_model_1.fit(X_train,y_train)"
   ]
  },
  {
   "cell_type": "code",
   "execution_count": 40,
   "id": "92441527-4f07-43a9-a319-63766d2c6bd8",
   "metadata": {},
   "outputs": [],
   "source": [
    "#Part 2: Predictions\n",
    "#Get predictions\n",
    "predictions_1 = my_model_1.predict(X_val)"
   ]
  },
  {
   "cell_type": "code",
   "execution_count": 41,
   "id": "3f26a9f8-217e-421e-9fb0-065912302017",
   "metadata": {},
   "outputs": [
    {
     "data": {
      "text/plain": [
       "18572.31490796233"
      ]
     },
     "execution_count": 41,
     "metadata": {},
     "output_type": "execute_result"
    }
   ],
   "source": [
    "#Part 3: Calculate MAE\n",
    "mae_1 = mean_absolute_error(y_val, predictions_1)\n",
    "mae_1"
   ]
  },
  {
   "cell_type": "code",
   "execution_count": 46,
   "id": "2bab294d-bf8c-4dd4-a472-5496b2031422",
   "metadata": {},
   "outputs": [
    {
     "data": {
      "text/plain": [
       "16865.91798212757"
      ]
     },
     "execution_count": 46,
     "metadata": {},
     "output_type": "execute_result"
    }
   ],
   "source": [
    "#Improve model:\n",
    "\n",
    "#Define model\n",
    "my_model_2 = XGBRegressor(random_state=0, n_estimators=1000, n_jobs=-1, learning_rate=0.05)\n",
    "#Fit model\n",
    "my_model_2.fit(X_train,y_train)\n",
    "#Get predictions\n",
    "predictions_2 = my_model_2.predict(X_val)\n",
    "#Calculate MAE\n",
    "mae_2 = mean_absolute_error(y_val, predictions_2)\n",
    "mae_2"
   ]
  },
  {
   "cell_type": "code",
   "execution_count": 47,
   "id": "4bda75a4-e8eb-4bc1-b29e-44d217759877",
   "metadata": {},
   "outputs": [
    {
     "data": {
      "text/plain": [
       "20940.03561108733"
      ]
     },
     "execution_count": 47,
     "metadata": {},
     "output_type": "execute_result"
    }
   ],
   "source": [
    "#Create worse model\n",
    "\n",
    "#Define model\n",
    "my_model_3 = XGBRegressor(random_state=0, n_estimators=50, n_jobs=-1, learning_rate=0.5)\n",
    "#Fit model\n",
    "my_model_3.fit(X_train, y_train)\n",
    "#Predict\n",
    "predictions_3 = my_model_3.predict(X_val)\n",
    "#Calculate MAE\n",
    "mae_3 = mean_absolute_error(y_val, predictions_3)\n",
    "mae_3"
   ]
  },
  {
   "cell_type": "code",
   "execution_count": null,
   "id": "af088910-329a-4e8a-80e9-75d9bbe11c3c",
   "metadata": {},
   "outputs": [],
   "source": []
  },
  {
   "cell_type": "code",
   "execution_count": null,
   "id": "804e847d-21eb-41f5-aa49-1c9f61916ec0",
   "metadata": {},
   "outputs": [],
   "source": []
  },
  {
   "cell_type": "code",
   "execution_count": null,
   "id": "a3893563-97b3-4f43-9751-f456b85f30ce",
   "metadata": {},
   "outputs": [],
   "source": []
  }
 ],
 "metadata": {
  "kernelspec": {
   "display_name": "Python 3 (ipykernel)",
   "language": "python",
   "name": "python3"
  },
  "language_info": {
   "codemirror_mode": {
    "name": "ipython",
    "version": 3
   },
   "file_extension": ".py",
   "mimetype": "text/x-python",
   "name": "python",
   "nbconvert_exporter": "python",
   "pygments_lexer": "ipython3",
   "version": "3.9.13"
  }
 },
 "nbformat": 4,
 "nbformat_minor": 5
}
