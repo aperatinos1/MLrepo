{
 "cells": [
  {
   "cell_type": "code",
   "execution_count": 1,
   "id": "bf4d0998-3ef7-457f-8267-3e71058a3812",
   "metadata": {},
   "outputs": [],
   "source": [
    "#Missing values\n",
    "import pandas as pd\n",
    "import sklearn as sk\n",
    "from sklearn.impute import SimpleImputer\n",
    "from sklearn.model_selection import train_test_split\n",
    "from sklearn.ensemble import RandomForestRegressor\n",
    "from sklearn.metrics import mean_absolute_error"
   ]
  },
  {
   "cell_type": "code",
   "execution_count": 4,
   "id": "46315be0-4a61-4ded-84c7-23e1e7cbbac7",
   "metadata": {},
   "outputs": [],
   "source": [
    "#Import and read data\n",
    "train_path = 'C:/Users/alexandros.peratinos/OneDrive - BearingPoint GmbH/Documents/ML/Data/housing_prices/train.csv'\n",
    "test_path  = 'C:/Users/alexandros.peratinos/OneDrive - BearingPoint GmbH/Documents/ML/Data/housing_prices/test.csv'\n",
    "X_full = pd.read_csv(train_path)\n",
    "X_test_full  = pd.read_csv(test_path)\n",
    "\n",
    "#Remove rows with missing Y-vals and separate x from y\n",
    "X_full.dropna(axis=0, subset=['SalePrice'], inplace=True)\n",
    "y = X_full.SalePrice\n",
    "X_full.drop(['SalePrice'],axis=1, inplace = True)\n",
    "\n",
    "#Simplifying by only using numerical predictors\n",
    "X = X_full.select_dtypes(exclude='object')\n",
    "X_test = X_test_full.select_dtypes(exclude='object')\n",
    "\n",
    "#Separate validation set from data in training set\n",
    "X_train, X_val, y_train, y_val = train_test_split(X,y, train_size=0.8, random_state=0)"
   ]
  },
  {
   "cell_type": "code",
   "execution_count": null,
   "id": "71ea943b-c84d-425e-b087-ff6cf60bda10",
   "metadata": {},
   "outputs": [],
   "source": [
    "#Inspect data\n",
    "print(X_train.shape)\n",
    "\n",
    "#Number of missing values in each column of training data\n",
    "missing_val_count = (X_train.isnull().sum())\n",
    "print(missing_val_count[missing_val_count >0])"
   ]
  },
  {
   "cell_type": "code",
   "execution_count": null,
   "id": "3321ea15-c6e4-4d86-8e73-20864a1554b5",
   "metadata": {},
   "outputs": [],
   "source": [
    "#Impute missing vals by mean val\n",
    "myImputer = SimpleImputer()\n",
    "imputed_X_train = pd.DataFrame(myImputer.fit_transform(X_train))\n",
    "imputed_X_val   = pd.DataFrame(myImputer.fit_transform(X_val))\n",
    "\n",
    "#Rename columns\n",
    "imputed_X_train.columns = X_train.columns\n",
    "imputed_X_val.columns = X_val.columns"
   ]
  },
  {
   "cell_type": "code",
   "execution_count": null,
   "id": "bab60272-9969-4c76-ad45-0f6234fbc725",
   "metadata": {},
   "outputs": [],
   "source": [
    "#Can now create model and check results\n",
    "\n",
    "def score_data(X_train, X_val, y_train, y_val):\n",
    "    model = RandomForestRegressor()\n",
    "    model.fit(X_train, y_train)\n",
    "    predictions = model.predict(X_val)\n",
    "    return mean_absolute_error(y_val, predictions)\n",
    "\n",
    "\n",
    "score_data(imputed_X_train, imputed_X_val, y_train, y_val)"
   ]
  },
  {
   "cell_type": "code",
   "execution_count": null,
   "id": "5f868551-c8f8-4800-a870-fe93cff23ea4",
   "metadata": {},
   "outputs": [],
   "source": []
  }
 ],
 "metadata": {
  "kernelspec": {
   "display_name": "Python 3 (ipykernel)",
   "language": "python",
   "name": "python3"
  },
  "language_info": {
   "codemirror_mode": {
    "name": "ipython",
    "version": 3
   },
   "file_extension": ".py",
   "mimetype": "text/x-python",
   "name": "python",
   "nbconvert_exporter": "python",
   "pygments_lexer": "ipython3",
   "version": "3.9.13"
  }
 },
 "nbformat": 4,
 "nbformat_minor": 5
}
